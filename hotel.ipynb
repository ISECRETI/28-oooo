from datetime import datetime

class Room:
    """Represents a hotel room with its details."""

    def __init__(self, room_number, room_type, amenities, price_per_night):
        self.__room_number = room_number
        self.__room_type = room_type
        self.__amenities = amenities
        self.__price_per_night = price_per_night
        self.__available = True  # Default: Available

    def book_room(self):
        if self.__available:
            self.__available = False
            return True
        return False

    def release_room(self):
        self.__available = True

    def get_details(self):
        return {
            "Room Number": self.__room_number,
            "Type": self.__room_type,
            "Amenities": self.__amenities,
            "Price": self.__price_per_night,
            "Available": self.__available
        }

    def __str__(self):
        return f"Room {self.__room_number} ({self.__room_type}) - {'Available' if self.__available else 'Booked'}"


class Guest:
    """Represents a hotel guest."""

    def __init__(self, name, email, contact, loyalty_points=0):
        self.__name = name
        self.__email = email
        self.__contact = contact
        self.__loyalty_points = loyalty_points
        self.__reservations = []

    def add_reservation(self, booking):
        self.__reservations.append(booking)

    def get_reservation_history(self):
        return self.__reservations

    def earn_loyalty_points(self, amount):
        points = amount // 10
        self.__loyalty_points += points

    def redeem_loyalty_points(self, points):
        if points <= self.__loyalty_points:
            self.__loyalty_points -= points
            return True
        return False

    def __str__(self):
        return f"Guest: {self.__name} ({self.__email}) - Loyalty Points: {self.__loyalty_points}"


class Booking:
    """Handles room reservations."""

    def __init__(self, guest, room, check_in, check_out):
        self.__guest = guest
        self.__room = room
        self.__check_in = check_in
        self.__check_out = check_out
        self.__invoice = None

    def confirm_booking(self):
        if self.__room.book_room():
            self.__invoice = self.generate_invoice()
            self.__guest.add_reservation(self)
            return True
        return False

    def cancel_booking(self):
        self.__room.release_room()
        return "Booking Canceled"

    def generate_invoice(self):
        days = (self.__check_out - self.__check_in).days
        amount = days * self.__room.get_details()["Price"]
        return f"Invoice: {amount} USD for {days} nights in {self.__room.get_details()['Room Number']}."

    def __str__(self):
        return f"Booking for {self.__guest} - {self.__room}"


class Payment:
    """Handles payments for bookings."""

    def __init__(self, booking, method):
        self.__booking = booking
        self.__method = method
        self.__status = "Pending"

    def process_payment(self, amount):
        if amount > 0:
            self.__status = "Paid"
            return f"Payment of {amount} via {self.__method} was successful."
        return "Payment failed."

    def __str__(self):
        return f"Payment Status: {self.__status}"


class ServiceRequest:
    """Handles additional guest services."""

    def __init__(self, guest, service_type):
        self.__guest = guest
        self.__service_type = service_type
        self.__status = "Pending"

    def process_request(self):
        self.__status = "Completed"
        return f"Service '{self.__service_type}' completed."

    def __str__(self):
        return f"Service: {self.__service_type} - Status: {self.__status}"


class Feedback:
    """Handles guest feedback and reviews."""

    def __init__(self, guest, rating, comments):
        self.__guest = guest
        self.__rating = rating
        self.__comments = comments

    def __str__(self):
        return f"Feedback from {self.__guest}: {self.__rating}/5 - {self.__comments}"


# MAIN EXECUTION
room1 = Room(101, "Deluxe", ["Wi-Fi", "TV"], 200)
room2 = Room(102, "Suite", ["Wi-Fi", "Mini-Bar"], 300)

guest1 = Guest("John Doe", "john@example.com", "+123456789")

check_in_date = datetime(2025, 5, 1)
check_out_date = datetime(2025, 5, 5)
booking1 = Booking(guest1, room1, check_in_date, check_out_date)

if booking1.confirm_booking():
    print("Booking Successful!")
    print(booking1.generate_invoice())

payment1 = Payment(booking1, "Credit Card")
print(payment1.process_payment(800))

feedback1 = Feedback(guest1, 5, "Excellent stay!")
print(feedback1)
